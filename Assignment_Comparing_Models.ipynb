{
  "nbformat": 4,
  "nbformat_minor": 0,
  "metadata": {
    "colab": {
      "name": "Assignment - Comparing Models",
      "provenance": [],
      "collapsed_sections": [],
      "authorship_tag": "ABX9TyNvawMQQbT7pVzxFYWpmiFi",
      "include_colab_link": true
    },
    "kernelspec": {
      "name": "python3",
      "display_name": "Python 3"
    }
  },
  "cells": [
    {
      "cell_type": "markdown",
      "metadata": {
        "id": "view-in-github",
        "colab_type": "text"
      },
      "source": [
        "<a href=\"https://colab.research.google.com/github/iyioladaniel/Machine_Learning/blob/master/Assignment_Comparing_Models.ipynb\" target=\"_parent\"><img src=\"https://colab.research.google.com/assets/colab-badge.svg\" alt=\"Open In Colab\"/></a>"
      ]
    },
    {
      "cell_type": "code",
      "metadata": {
        "id": "YUMeIAR04KcC",
        "colab_type": "code",
        "colab": {
          "base_uri": "https://localhost:8080/",
          "height": 332
        },
        "outputId": "eae76aaa-3d2a-443f-8591-65d05e188062"
      },
      "source": [
        "#import libraries\n",
        "import pandas as pd\n",
        "import numpy as np\n",
        "from sklearn.model_selection import train_test_split\n",
        "from sklearn.linear_model import LinearRegression, LogisticRegression\n",
        "from sklearn.ensemble import RandomForestClassifier \n",
        "from sklearn.metrics import confusion_matrix, accuracy_score, classification_report\n",
        "from sklearn.tree import DecisionTreeClassifier\n",
        "\n",
        "#read data\n",
        "file_url = 'https://raw.githubusercontent.com/PacktWorkshops/The-Data-Science-Workshop/master/Chapter03/bank-full.csv'\n",
        "bankData = pd.read_csv(file_url, sep=\";\")\n",
        "bankData.columns[:]\n",
        "\n",
        "\n",
        "#Getting dummy numbers for categorical data\n",
        "bankCat=pd.get_dummies(bankData[['job','marital','education','default','housing','loan','contact','month','poutcome']])\n",
        "bankNum=bankData.drop(['job','marital','education','default','housing','loan','contact','month','poutcome','y'], axis=1)\n",
        "bankCat.describe().T\n",
        "\n",
        "#get x and y variables\n",
        "features = pd.concat([bankCat,bankNum], axis=1)\n",
        "target=bankData['y'].apply(lambda x:0 if x=='no' else 1)\n",
        "#for col['y'], no=0, yes=1\n",
        "\n",
        "#print(features.dtypes)\n",
        "  \n",
        "X_train, X_eval, y_train, y_eval=train_test_split(features, target, test_size=0.3, random_state=0)\n",
        "X_val, X_test, y_val, y_test=train_test_split(X_eval, y_eval, test_size=0.5, random_state=0)\n",
        "\n",
        "log_model=LogisticRegression()\n",
        "log_model.fit(X_train,y_train)\n",
        "log_pred=log_model.predict(X_val)\n",
        "# log_model.score(y_val, log_pred)\n",
        "\n",
        "confusion_matrix(y_val, log_pred)\n",
        "accuracy_score(y_val, log_pred)\n",
        "log_report=classification_report(y_val, log_pred)\n",
        "print(log_report)"
      ],
      "execution_count": 47,
      "outputs": [
        {
          "output_type": "stream",
          "text": [
            "              precision    recall  f1-score   support\n",
            "\n",
            "           0       0.91      0.98      0.94      5995\n",
            "           1       0.57      0.22      0.32       787\n",
            "\n",
            "    accuracy                           0.89      6782\n",
            "   macro avg       0.74      0.60      0.63      6782\n",
            "weighted avg       0.87      0.89      0.87      6782\n",
            "\n"
          ],
          "name": "stdout"
        },
        {
          "output_type": "stream",
          "text": [
            "/usr/local/lib/python3.6/dist-packages/sklearn/linear_model/_logistic.py:940: ConvergenceWarning: lbfgs failed to converge (status=1):\n",
            "STOP: TOTAL NO. of ITERATIONS REACHED LIMIT.\n",
            "\n",
            "Increase the number of iterations (max_iter) or scale the data as shown in:\n",
            "    https://scikit-learn.org/stable/modules/preprocessing.html\n",
            "Please also refer to the documentation for alternative solver options:\n",
            "    https://scikit-learn.org/stable/modules/linear_model.html#logistic-regression\n",
            "  extra_warning_msg=_LOGISTIC_SOLVER_CONVERGENCE_MSG)\n"
          ],
          "name": "stderr"
        }
      ]
    },
    {
      "cell_type": "code",
      "metadata": {
        "id": "v-awnoPAwpzZ",
        "colab_type": "code",
        "colab": {
          "base_uri": "https://localhost:8080/",
          "height": 173
        },
        "outputId": "6a6f1a78-2e17-46ca-b358-542899bada49"
      },
      "source": [
        "#Decision Tree\n",
        "dtc_model=DecisionTreeClassifier(max_depth=6)\n",
        "dtc_model.fit(X_train,y_train)\n",
        "dtc_pred=dtc_model.predict(X_val)\n",
        "dtc_report=classification_report(y_val, dtc_pred)\n",
        "print(dtc_report)"
      ],
      "execution_count": 48,
      "outputs": [
        {
          "output_type": "stream",
          "text": [
            "              precision    recall  f1-score   support\n",
            "\n",
            "           0       0.93      0.96      0.94      5995\n",
            "           1       0.58      0.42      0.49       787\n",
            "\n",
            "    accuracy                           0.90      6782\n",
            "   macro avg       0.75      0.69      0.71      6782\n",
            "weighted avg       0.89      0.90      0.89      6782\n",
            "\n"
          ],
          "name": "stdout"
        }
      ]
    },
    {
      "cell_type": "code",
      "metadata": {
        "id": "bohZ9NtpydPu",
        "colab_type": "code",
        "colab": {
          "base_uri": "https://localhost:8080/",
          "height": 173
        },
        "outputId": "ea764516-d13d-4e23-be1a-9a64a69598d9"
      },
      "source": [
        "#RandomForestClassifier\n",
        "rfc_model=RandomForestClassifier()\n",
        "rfc_model.fit(X_train,y_train)\n",
        "rfc_pred=rfc_model.predict(X_val)\n",
        "rfc_report=classification_report(y_val, rfc_pred)\n",
        "print(rfc_report)"
      ],
      "execution_count": 49,
      "outputs": [
        {
          "output_type": "stream",
          "text": [
            "              precision    recall  f1-score   support\n",
            "\n",
            "           0       0.93      0.97      0.95      5995\n",
            "           1       0.63      0.42      0.50       787\n",
            "\n",
            "    accuracy                           0.90      6782\n",
            "   macro avg       0.78      0.69      0.72      6782\n",
            "weighted avg       0.89      0.90      0.89      6782\n",
            "\n"
          ],
          "name": "stdout"
        }
      ]
    },
    {
      "cell_type": "code",
      "metadata": {
        "id": "FLejAFA0zWah",
        "colab_type": "code",
        "colab": {
          "base_uri": "https://localhost:8080/",
          "height": 312
        },
        "outputId": "6fe2e7c6-80c5-4bfa-af3c-39eb246ff052"
      },
      "source": [
        "compare_models=pd.DataFrame(dict(actual=y_val, log=log_pred, DTC=dtc_pred, RFC=rfc_pred))\n",
        "print(compare_models.head)\n",
        "\n",
        "#comparing r2_score of all models\n",
        "log_r2=log_model.score(X_val, y_val)\n",
        "dtc_r2=dtc_model.score(X_val, y_val)\n",
        "rfc_r2=rfc_model.score(X_val, y_val)\n",
        "\n",
        "print('Log R^2 Score:{}'.format(log_r2),'DFC R^2 Score:{}'.format(dtc_r2),'RFC R^2 Score:{}'.format(rfc_r2), sep='\\n')"
      ],
      "execution_count": 62,
      "outputs": [
        {
          "output_type": "stream",
          "text": [
            "<bound method NDFrame.head of        actual  log  DTC  RFC\n",
            "9208        0    0    0    0\n",
            "29228       0    0    0    0\n",
            "3861        0    0    0    0\n",
            "43614       1    0    1    1\n",
            "20717       0    0    0    0\n",
            "...       ...  ...  ...  ...\n",
            "18095       0    0    0    0\n",
            "7996        0    0    0    0\n",
            "19738       0    0    0    0\n",
            "3937        0    0    0    0\n",
            "43469       0    0    0    0\n",
            "\n",
            "[6782 rows x 4 columns]>\n",
            "Log R^2 Score:0.8902978472427012\n",
            "DFC R^2 Score:0.8972279563550575\n",
            "RFC R^2 Score:0.9037157180772634\n"
          ],
          "name": "stdout"
        }
      ]
    }
  ]
}