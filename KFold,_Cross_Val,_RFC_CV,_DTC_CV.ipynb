{
  "nbformat": 4,
  "nbformat_minor": 0,
  "metadata": {
    "colab": {
      "name": "KFold, Cross_Val, RFC_CV, DTC_CV",
      "provenance": [],
      "collapsed_sections": [],
      "authorship_tag": "ABX9TyNWdmWuvzRyipytSl6bt90t",
      "include_colab_link": true
    },
    "kernelspec": {
      "name": "python3",
      "display_name": "Python 3"
    }
  },
  "cells": [
    {
      "cell_type": "markdown",
      "metadata": {
        "id": "view-in-github",
        "colab_type": "text"
      },
      "source": [
        "<a href=\"https://colab.research.google.com/github/iyioladaniel/Machine_Learning/blob/master/KFold%2C_Cross_Val%2C_RFC_CV%2C_DTC_CV.ipynb\" target=\"_parent\"><img src=\"https://colab.research.google.com/assets/colab-badge.svg\" alt=\"Open In Colab\"/></a>"
      ]
    },
    {
      "cell_type": "code",
      "metadata": {
        "id": "esTPF5yPvTg2",
        "colab_type": "code",
        "colab": {}
      },
      "source": [
        "import numpy as np\n",
        "import pandas as pd\n",
        "from sklearn.model_selection import train_test_split\n",
        "\n",
        "file_url='https://raw.githubusercontent.com/PacktWorkshops/The-Data-Science-Workshop/master/Chapter07/Dataset/car.data'\n",
        "\n",
        "# data doesn't have headers, so let's create headers\n",
        "_headers = ['buying', 'maint', 'doors', 'persons', 'lug_boot', 'safety', 'car']\n",
        "df=pd.read_csv(file_url, names=_headers, index_col=None)\n",
        "df.info()\n",
        "\n",
        "training_df, eval_df=train_test_split(df,train_size=0.8, random_state=0)\n",
        "training_df.head()\n",
        "eval_df.head()"
      ],
      "execution_count": 0,
      "outputs": []
    },
    {
      "cell_type": "code",
      "metadata": {
        "id": "0-e6K6kV7Pib",
        "colab_type": "code",
        "colab": {}
      },
      "source": [
        "#K-Fold\n",
        "from sklearn.model_selection import KFold\n",
        "n_splits=5\n",
        "_kf=KFold(n_splits=n_splits)\n",
        "#splits data into 5 sets.\n",
        "\n",
        "indices=_kf.split(df)\n",
        "type(indices)\n",
        "#indices is a generator\n",
        "\n",
        "#first set\n",
        "train_indices, val_indices=next(indices)\n",
        "\n",
        "train_df=df.drop(val_indices)\n",
        "val_df=df.drop(train_indices)\n",
        "#print(train_df.info(),val_df.info())\n",
        "\n",
        "_t, _v=[],[]\n",
        "_indices=_kf.split(df)\n",
        "\n",
        "#iterate over indices generator and create DF\n",
        "for i in range(n_splits):\n",
        "  train_idx, val_idx=next(_indices)\n",
        "  _train_df=df.drop(val_idx)\n",
        "  _t.append(_train_df)\n",
        "  _val_df=df.drop(train_idx)\n",
        "  _v.append(_val_df)\n",
        "\n",
        "#Iterate over training list\n",
        "for d in _t:\n",
        "  print(d.info())\n",
        "\n",
        "#Iterate over validation list\n",
        "for d in _v:\n",
        "  print(d.info())"
      ],
      "execution_count": 0,
      "outputs": []
    },
    {
      "cell_type": "code",
      "metadata": {
        "id": "SpTrrY96BD3Y",
        "colab_type": "code",
        "colab": {
          "base_uri": "https://localhost:8080/",
          "height": 34
        },
        "outputId": "71123f2f-0bc8-41e5-af9f-88691f810ed3"
      },
      "source": [
        "_df=pd.get_dummies(df, columns=['buying', 'maint', 'doors', 'persons', 'lug_boot', 'safety'])\n",
        "_df.head()\n",
        "\n",
        "features=_df.drop(['car'], axis=1).values\n",
        "labels=_df[['car']].values\n",
        "\n",
        "from sklearn.linear_model import LogisticRegression\n",
        "log_model=LogisticRegression()\n",
        "\n",
        "from sklearn.model_selection import cross_val_score\n",
        "_scores=cross_val_score(log_model, features, labels.ravel(), cv=5)\n",
        "print('R^2 for 5 sets:{}'.format(_scores))"
      ],
      "execution_count": 65,
      "outputs": [
        {
          "output_type": "stream",
          "text": [
            "R^2 for 5 sets:[0.70231214 0.84971098 0.74566474 0.75652174 0.76231884]\n"
          ],
          "name": "stdout"
        }
      ]
    },
    {
      "cell_type": "code",
      "metadata": {
        "id": "eW573INZKc7-",
        "colab_type": "code",
        "colab": {
          "base_uri": "https://localhost:8080/",
          "height": 34
        },
        "outputId": "1df1c03d-81db-47bc-d399-8d81bf743df7"
      },
      "source": [
        "#using LogRegCV\n",
        "from sklearn.linear_model import LogisticRegressionCV\n",
        "model=LogisticRegressionCV(max_iter=2000, multi_class='auto', cv=5)\n",
        "\n",
        "model.fit(features, labels.ravel())\n",
        "#df.ravel() to convert to 1D array or vector\n",
        "r2=model.score(features,labels.ravel())\n",
        "print('R2 Score:{}'.format(r2))"
      ],
      "execution_count": 67,
      "outputs": [
        {
          "output_type": "stream",
          "text": [
            "R2 Score:0.9456018518518519\n"
          ],
          "name": "stdout"
        }
      ]
    },
    {
      "cell_type": "code",
      "metadata": {
        "id": "qfKNGvmsNoIl",
        "colab_type": "code",
        "colab": {
          "base_uri": "https://localhost:8080/",
          "height": 156
        },
        "outputId": "1898364d-d5fd-413f-ccb8-59bb41aac3b7"
      },
      "source": [
        "from sklearn.tree import DecisionTreeClassifier\n",
        "from sklearn.model_selection import GridSearchCV\n",
        "\n",
        "dtc=DecisionTreeClassifier()\n",
        "params={'max_depth':np.arange(1,8)}\n",
        "dtc_cv=GridSearchCV(dtc, param_grid=params, cv=5)\n",
        "dtc_cv.fit(features, labels)\n",
        "\n",
        "print('Tuned Decision Tree Parameters:{}'.format(dtc_cv.best_params_))\n",
        "print('Best Score:{}'.format(dtc_cv.best_score_))\n",
        "\n",
        "#to access best model\n",
        "model=dtc_cv.best_estimator_\n",
        "model"
      ],
      "execution_count": 74,
      "outputs": [
        {
          "output_type": "stream",
          "text": [
            "Tuned Decision Tree Parameters:{'max_depth': 2}\n",
            "Best Score:0.7778822149618833\n"
          ],
          "name": "stdout"
        },
        {
          "output_type": "execute_result",
          "data": {
            "text/plain": [
              "DecisionTreeClassifier(ccp_alpha=0.0, class_weight=None, criterion='gini',\n",
              "                       max_depth=2, max_features=None, max_leaf_nodes=None,\n",
              "                       min_impurity_decrease=0.0, min_impurity_split=None,\n",
              "                       min_samples_leaf=1, min_samples_split=2,\n",
              "                       min_weight_fraction_leaf=0.0, presort='deprecated',\n",
              "                       random_state=None, splitter='best')"
            ]
          },
          "metadata": {
            "tags": []
          },
          "execution_count": 74
        }
      ]
    },
    {
      "cell_type": "code",
      "metadata": {
        "id": "ncGZKpgTUE4B",
        "colab_type": "code",
        "colab": {
          "base_uri": "https://localhost:8080/",
          "height": 190
        },
        "outputId": "ba5cdc1c-5942-48aa-efb3-772d2c908887"
      },
      "source": [
        "from sklearn.ensemble import RandomForestClassifier\n",
        "from sklearn.model_selection import RandomizedSearchCV\n",
        "\n",
        "rfc=RandomForestClassifier()\n",
        "params={'n_estimators':[500,1000,2000], 'max_depth':np.arange(1,8)}\n",
        "rfc_cv=RandomizedSearchCV(rfc, param_distributions=params, cv=5)\n",
        "rfc_cv.fit(features, labels.ravel())\n",
        "\n",
        "print(\"Tuned Random Forest Parameters: {}\".format(rfc_cv.best_params_))\n",
        "print('Best Score:{}'.format(rfc_cv.best_score_))\n",
        "\n",
        "model=rfc_cv.best_estimator_\n",
        "model"
      ],
      "execution_count": 78,
      "outputs": [
        {
          "output_type": "stream",
          "text": [
            "Tuned Random Forest Parameters: {'n_estimators': 1000, 'max_depth': 5}\n",
            "Best Score:0.762211610957527\n"
          ],
          "name": "stdout"
        },
        {
          "output_type": "execute_result",
          "data": {
            "text/plain": [
              "RandomForestClassifier(bootstrap=True, ccp_alpha=0.0, class_weight=None,\n",
              "                       criterion='gini', max_depth=5, max_features='auto',\n",
              "                       max_leaf_nodes=None, max_samples=None,\n",
              "                       min_impurity_decrease=0.0, min_impurity_split=None,\n",
              "                       min_samples_leaf=1, min_samples_split=2,\n",
              "                       min_weight_fraction_leaf=0.0, n_estimators=1000,\n",
              "                       n_jobs=None, oob_score=False, random_state=None,\n",
              "                       verbose=0, warm_start=False)"
            ]
          },
          "metadata": {
            "tags": []
          },
          "execution_count": 78
        }
      ]
    }
  ]
}