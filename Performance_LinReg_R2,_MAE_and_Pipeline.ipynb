{
  "nbformat": 4,
  "nbformat_minor": 0,
  "metadata": {
    "colab": {
      "name": "Performance LinReg - R2, MAE and Pipeline",
      "provenance": [],
      "collapsed_sections": [],
      "authorship_tag": "ABX9TyMrYrULwmTkwvUnEAXpe4IQ",
      "include_colab_link": true
    },
    "kernelspec": {
      "name": "python3",
      "display_name": "Python 3"
    }
  },
  "cells": [
    {
      "cell_type": "markdown",
      "metadata": {
        "id": "view-in-github",
        "colab_type": "text"
      },
      "source": [
        "<a href=\"https://colab.research.google.com/github/iyioladaniel/Machine_Learning/blob/master/Performance_LinReg_R2%2C_MAE_and_Pipeline.ipynb\" target=\"_parent\"><img src=\"https://colab.research.google.com/assets/colab-badge.svg\" alt=\"Open In Colab\"/></a>"
      ]
    },
    {
      "cell_type": "code",
      "metadata": {
        "id": "X8nP_-UjMjPf",
        "colab_type": "code",
        "colab": {}
      },
      "source": [
        "import pandas as pd\n",
        "from sklearn.model_selection import train_test_split\n",
        "\n",
        "#data doesn't have headers, so let's create headers\n",
        "_headers=['buying','maint','doors','persons','lug_boot','safety','car']\n",
        "df = pd.read_csv('https://raw.githubusercontent.com/PacktWorkshops/The-Data-Science-Workshop/master/Chapter06/Dataset/car.data', names=_headers, index_col=None)\n",
        "df.head()\n",
        "\n",
        "training,evaluation=train_test_split(df,test_size=0.3,random_state=0)\n",
        "validation,test=train_test_split(evaluation,test_size=0.5, random_state=0)\n"
      ],
      "execution_count": 0,
      "outputs": []
    },
    {
      "cell_type": "code",
      "metadata": {
        "id": "U6kAcjJ92Uyn",
        "colab_type": "code",
        "outputId": "93e0d033-b353-4bf8-f179-ef14acbb5c51",
        "colab": {
          "base_uri": "https://localhost:8080/",
          "height": 34
        }
      },
      "source": [
        "from sklearn.linear_model import LinearRegression\n",
        "_headers=['CIC0','SM1','GATS1i','MdsCH','MLOGP','response']\n",
        "df = pd.read_csv('https://raw.githubusercontent.com/PacktWorkshops/The-Data-Science-Workshop/master/Chapter06/Dataset/qsar_fish_toxicity.csv', names=_headers, sep=';')\n",
        "#print(df.describe().T)\n",
        "\n",
        "features=df.drop('response',axis=1).values\n",
        "labels=df[['response']].values\n",
        "\n",
        "X_train, X_eval, y_train, y_eval=train_test_split(features,labels, test_size=0.2, random_state=0)\n",
        "X_val, X_test, y_val, y_test=train_test_split(X_eval, y_eval, random_state=0)\n",
        "#split takes test_size=0.25 if you don't specify\n",
        "\n",
        "model=LinearRegression()\n",
        "model.fit(X_train, y_train)\n",
        "y_pred=model.predict(X_val)\n",
        "\n",
        "r2=model.score(X_val, y_val)\n",
        "print('R^2 score: {}'.format(r2))\n",
        "\n",
        "_ys=pd.DataFrame(dict(actuals=y_val.reshape(-1), predicted=y_pred.reshape(-1)))\n",
        "_ys.head()"
      ],
      "execution_count": 0,
      "outputs": [
        {
          "output_type": "stream",
          "text": [
            "R^2 score: 0.5400806996191623\n"
          ],
          "name": "stdout"
        }
      ]
    },
    {
      "cell_type": "code",
      "metadata": {
        "id": "q54ktwjf5281",
        "colab_type": "code",
        "outputId": "1531bd92-b245-4752-b02f-6ff486bd8857",
        "colab": {
          "base_uri": "https://localhost:8080/",
          "height": 52
        }
      },
      "source": [
        "from sklearn.metrics import mean_absolute_error\n",
        "#to calculate Mean Absolute Error\n",
        "mae=mean_absolute_error(y_val, y_pred)\n",
        "print('MAE: {}'.format(mae))\n",
        "\n",
        "r2=model.score(X_val,y_val)\n",
        "print('R^2 score: {}'.format(r2))"
      ],
      "execution_count": 0,
      "outputs": [
        {
          "output_type": "stream",
          "text": [
            "MAE: 0.7566798410496872\n",
            "R^2 score: 0.5400806996191623\n"
          ],
          "name": "stdout"
        }
      ]
    },
    {
      "cell_type": "code",
      "metadata": {
        "id": "ViQesS-H9-mm",
        "colab_type": "code",
        "outputId": "5b7c3064-ca20-4767-adc6-a185b5095cf6",
        "colab": {
          "base_uri": "https://localhost:8080/",
          "height": 52
        }
      },
      "source": [
        "#pipeline\n",
        "from sklearn.pipeline import Pipeline\n",
        "\n",
        "#preprocessing\n",
        "from sklearn.preprocessing import MinMaxScaler, StandardScaler, PolynomialFeatures\n",
        "\n",
        "#creating pipeline and engineer quadratic features\n",
        "steps = [\n",
        "         ('scaler', MinMaxScaler()),\n",
        "         ('poly', PolynomialFeatures(2)),\n",
        "         ('model', LinearRegression())\n",
        "]\n",
        "\n",
        "#create a simple Linear Regression model with a pipeline\n",
        "model=Pipeline(steps)\n",
        "\n",
        "#training the model\n",
        "model.fit(X_train, y_train)\n",
        "y_pred=model.predict(X_val)\n",
        "\n",
        "#compute MAE of model\n",
        "mae=mean_absolute_error(y_val, y_pred)\n",
        "print('MAE:{}'.format(mae))\n",
        "\n",
        "#compute R^2 of model\n",
        "r2=model.score(X_val,y_val)\n",
        "print('R^2 score: {}'.format(r2))"
      ],
      "execution_count": 0,
      "outputs": [
        {
          "output_type": "stream",
          "text": [
            "MAE:0.6890705471610289\n",
            "R^2 score: 0.592527394264845\n"
          ],
          "name": "stdout"
        }
      ]
    }
  ]
}