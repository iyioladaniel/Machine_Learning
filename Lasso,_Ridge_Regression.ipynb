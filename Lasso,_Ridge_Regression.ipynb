{
  "nbformat": 4,
  "nbformat_minor": 0,
  "metadata": {
    "colab": {
      "name": "Lasso, Ridge Regression",
      "provenance": [],
      "collapsed_sections": [],
      "authorship_tag": "ABX9TyPXnbvnCtqJm3LCLcXJJgtt",
      "include_colab_link": true
    },
    "kernelspec": {
      "name": "python3",
      "display_name": "Python 3"
    }
  },
  "cells": [
    {
      "cell_type": "markdown",
      "metadata": {
        "id": "view-in-github",
        "colab_type": "text"
      },
      "source": [
        "<a href=\"https://colab.research.google.com/github/iyioladaniel/Machine_Learning/blob/master/Lasso%2C_Ridge_Regression.ipynb\" target=\"_parent\"><img src=\"https://colab.research.google.com/assets/colab-badge.svg\" alt=\"Open In Colab\"/></a>"
      ]
    },
    {
      "cell_type": "code",
      "metadata": {
        "id": "0gkQ9doGYg0a",
        "colab_type": "code",
        "colab": {
          "base_uri": "https://localhost:8080/",
          "height": 52
        },
        "outputId": "717662c9-0006-4a70-c9a8-8ee3409a7d2a"
      },
      "source": [
        "import pandas as pd\n",
        "from sklearn.model_selection import train_test_split\n",
        "from sklearn.linear_model import LinearRegression, Lasso\n",
        "from sklearn.metrics import mean_squared_error\n",
        "from sklearn.pipeline import Pipeline\n",
        "from sklearn.preprocessing import MinMaxScaler, PolynomialFeatures\n",
        "\n",
        "_df = pd.read_csv('https://raw.githubusercontent.com/PacktWorkshops/The-Data-Science-Workshop/master/Chapter07/Dataset/ccpp.csv')\n",
        "#_df.info()\n",
        "\n",
        "X=_df.drop('PE', axis=1)\n",
        "y=_df['PE'].values\n",
        "\n",
        "X_train, X_eval, y_train, y_eval=train_test_split(X,y, test_size=0.2, random_state=0)\n",
        "\n",
        "lr_model1=LinearRegression()\n",
        "lr_model1.fit(X_train,y_train)\n",
        "lr_model1_pred=lr_model1.predict(X_eval)\n",
        "lr_model1_r2=lr_model1.score(X_eval,y_eval)\n",
        "lr_model1_mse=mean_squared_error(y_eval, lr_model1_pred)\n",
        "print('Linear Regression model score={}'.format(lr_model1_r2))\n",
        "print('Linear Regression model MSE={}'.format(lr_model1_mse))"
      ],
      "execution_count": 2,
      "outputs": [
        {
          "output_type": "stream",
          "text": [
            "Linear Regression model score=0.9325315554761303\n",
            "Linear Regression model MSE=19.733699303497644\n"
          ],
          "name": "stdout"
        }
      ]
    },
    {
      "cell_type": "code",
      "metadata": {
        "id": "EVbZ5HQwZUyG",
        "colab_type": "code",
        "colab": {
          "base_uri": "https://localhost:8080/",
          "height": 225
        },
        "outputId": "bf0fd398-1eac-4cb5-9d1d-84beefca9539"
      },
      "source": [
        "#Creating Pipeline\n",
        "steps=[\n",
        "       ('scaler', MinMaxScaler()),\n",
        "       ('poly', PolynomialFeatures(degree=3)),\n",
        "       ('lr', LinearRegression())\n",
        "]\n",
        "\n",
        "lr_model2=Pipeline(steps)\n",
        "lr_model2.fit(X_train, y_train)\n",
        "lr_model2_pred=lr_model2.predict(X_eval)\n",
        "lr_model2_r2=lr_model2.score(X_eval,y_eval)\n",
        "lr_model2_mse=mean_squared_error(y_eval, lr_model2_pred)\n",
        "print('Linear Regression model 2 score={}'.format(lr_model2_r2))\n",
        "print('Linear Regression model 2 MSE={}'.format(lr_model2_mse))\n",
        "\n",
        "print(lr_model2[-1].coef_)\n",
        "print(len(lr_model2[-1].coef_))"
      ],
      "execution_count": 3,
      "outputs": [
        {
          "output_type": "stream",
          "text": [
            "Linear Regression model 2 score=0.9443678654045208\n",
            "Linear Regression model 2 MSE=16.271722632207666\n",
            "[ 7.72661789e-14 -1.77278028e+02 -4.60337188e+01 -1.60520675e+02\n",
            " -1.23076123e+02  6.23358210e+00  8.19655844e+00  1.45478576e+02\n",
            "  1.88658651e+02  2.43740192e+01  1.80553150e+02 -1.08058561e+02\n",
            "  1.09713294e+02  1.79121906e+02  1.06460596e+02  2.67290613e+01\n",
            "  7.79833654e+01  3.69241324e+01 -1.13863997e+02 -1.42673215e+02\n",
            " -9.69606773e+01  1.90706809e+02 -5.56429546e+01 -1.32595225e+02\n",
            " -9.41682917e+01  9.40112729e+01 -1.18732510e+02 -7.64871610e+01\n",
            " -4.18714081e+01  6.36772260e+01  4.42340977e+01 -3.81114691e+01\n",
            " -4.71547759e+01 -9.16797074e+01 -2.52346805e+01]\n",
            "35\n"
          ],
          "name": "stdout"
        }
      ]
    },
    {
      "cell_type": "code",
      "metadata": {
        "id": "98zFdJprfQLD",
        "colab_type": "code",
        "colab": {
          "base_uri": "https://localhost:8080/",
          "height": 225
        },
        "outputId": "50b5230a-c24f-4351-f02a-d73ad367d3a4"
      },
      "source": [
        "#Pipeline with Polynomial Features degree at 10\n",
        "steps=[\n",
        "       ('scaler', MinMaxScaler()),\n",
        "       ('poly', PolynomialFeatures(degree=10)),\n",
        "       ('lr', LinearRegression())\n",
        "]\n",
        "\n",
        "lr_model3=Pipeline(steps)\n",
        "lr_model3.fit(X_train, y_train)\n",
        "lr_model3_pred=lr_model3.predict(X_eval)\n",
        "lr_model3_r2=lr_model3.score(X_eval,y_eval)\n",
        "lr_model3_mse=mean_squared_error(y_eval, lr_model3_pred)\n",
        "print('Linear Regression model 3 score={}'.format(lr_model3_r2))\n",
        "print('Linear Regression model 3 MSE={}'.format(lr_model3_mse))\n",
        "\n",
        "print(lr_model3[-1].coef_[:35])\n",
        "print(len(lr_model3[-1].coef_))\n",
        "\n",
        "#R2 score shows Over Fitting, even from number of coefficients (weights)"
      ],
      "execution_count": 4,
      "outputs": [
        {
          "output_type": "stream",
          "text": [
            "Linear Regression model 3 score=0.5683459493202576\n",
            "Linear Regression model 3 MSE=126.25355896914343\n",
            "[ 3.92417572e+05 -6.90884957e+07 -4.12728037e+07  2.27928559e+07\n",
            " -4.76788092e+07  2.96663457e+08  2.73267484e+08  1.07844757e+08\n",
            "  3.73718995e+08  8.79698968e+07 -2.35367959e+07  2.46251982e+08\n",
            " -2.61104947e+08  1.86087661e+07  1.41131196e+08 -6.53886924e+08\n",
            " -8.90633353e+08 -1.06074814e+09 -1.29264510e+09 -4.28435046e+08\n",
            "  5.31626843e+07 -1.30408977e+09  4.41024830e+08 -8.86228713e+08\n",
            " -8.78160515e+08 -1.97377311e+06 -5.39375259e+08 -3.68352714e+08\n",
            "  9.82113559e+08 -2.76718687e+08 -6.28824872e+08  8.14257203e+08\n",
            "  5.43205856e+08 -2.03045074e+08 -2.42929048e+08]\n",
            "1001\n"
          ],
          "name": "stdout"
        }
      ]
    },
    {
      "cell_type": "code",
      "metadata": {
        "id": "FTEYjGJ3gL5w",
        "colab_type": "code",
        "colab": {
          "base_uri": "https://localhost:8080/",
          "height": 242
        },
        "outputId": "6a817948-7ac6-495a-dd0a-c9f538e9ced2"
      },
      "source": [
        "#Lasso Regression model!\n",
        "steps=[\n",
        "       ('scaler', MinMaxScaler()),\n",
        "       ('poly', PolynomialFeatures(degree=10)),\n",
        "       ('lr', Lasso(alpha=0.1))\n",
        "]\n",
        "\n",
        "lasso_model=Pipeline(steps)\n",
        "lasso_model.fit(X_train, y_train)\n",
        "lasso_model_pred=lasso_model.predict(X_eval)\n",
        "lasso_model_r2=lasso_model.score(X_eval,y_eval)\n",
        "lasso_model_mse=mean_squared_error(y_eval, lasso_model_pred)\n",
        "print('Lasso Regression score={}'.format(lasso_model_r2))\n",
        "print('Lasso Regression model 3 MSE={}'.format(lasso_model_mse))\n",
        "\n",
        "print(lasso_model[-1].coef_[:35])\n",
        "print(len(lasso_model[-1].coef_))\n",
        "\n",
        "import numpy as np\n",
        "print('\\n',np.unique(lasso_model[-1].coef_[:], return_counts=True))"
      ],
      "execution_count": 24,
      "outputs": [
        {
          "output_type": "stream",
          "text": [
            "Lasso Regression score=0.9331411761774903\n",
            "Lasso Regression model 3 MSE=19.55539266407944\n",
            "[  0.         -61.23846249  -8.51917469   0.          -0.\n",
            "  -0.          -0.          -0.          -8.11277223  -0.\n",
            "  -0.          -8.17204112   0.           0.          -0.\n",
            "  -0.          -0.          -0.          -0.          -0.\n",
            "  -0.          -0.           0.          -0.          -0.\n",
            "  -0.          -0.          -0.           0.          -0.\n",
            "  -0.           0.           0.           0.          -0.        ]\n",
            "1001\n",
            "\n",
            " (array([-61.23846249,  -8.51917469,  -8.17204112,  -8.11277223,\n",
            "        -0.        ]), array([  1,   1,   1,   1, 997]))\n"
          ],
          "name": "stdout"
        }
      ]
    },
    {
      "cell_type": "code",
      "metadata": {
        "id": "6m6fU7GaeTiM",
        "colab_type": "code",
        "colab": {
          "base_uri": "https://localhost:8080/",
          "height": 190
        },
        "outputId": "a398562b-3c94-46aa-c80d-7d97c4fa1339"
      },
      "source": [
        "#Ridge Regression model\n",
        "from sklearn.linear_model import Ridge\n",
        "\n",
        "steps=[\n",
        "       ('scaler', MinMaxScaler()),\n",
        "       ('poly', PolynomialFeatures(degree=10)),\n",
        "       ('lr', Ridge(alpha=0.9))\n",
        "]\n",
        "\n",
        "ridge_model=Pipeline(steps)\n",
        "ridge_model.fit(X_train,y_train)\n",
        "ridge_model_pred=ridge_model.predict(X_eval)\n",
        "ridge_model_r2=ridge_model.score(X_eval,y_eval)\n",
        "ridge_model_mse=mean_squared_error(y_eval,ridge_model_pred)\n",
        "\n",
        "print('Ridge Model R2 Score = {}'.format(ridge_model_r2),'\\n Ridge Model MSE = {}'.format(ridge_model_mse))\n",
        "print(ridge_model[-1].coef_[:35],'\\n',len(ridge_model[-1].coef_[:]))"
      ],
      "execution_count": 27,
      "outputs": [
        {
          "output_type": "stream",
          "text": [
            "Ridge Model R2 Score = 0.9451949082623449 \n",
            " Ridge Model MSE = 16.02982265685497\n",
            "[  0.         -39.79803902  -7.77413135   6.07694837   3.10326786\n",
            " -18.17945028  -9.45440071  -7.4037462  -16.97192766  -9.10799691\n",
            "   6.96959155  -1.55574911   4.49242992   0.31127893   5.27565009\n",
            "  -4.07568831  -0.95958324   2.38995687  -6.1583696   -2.05510604\n",
            "   2.3741985   -1.30281151  -1.7837005   -4.53024264  -8.30749466\n",
            "  -3.42801698   0.65288784  -2.74767783   5.47711767   4.68241474\n",
            "  -2.1214614   -0.47331885   0.43221968  -0.28909998   4.64549348] \n",
            " 1001\n"
          ],
          "name": "stdout"
        }
      ]
    }
  ]
}