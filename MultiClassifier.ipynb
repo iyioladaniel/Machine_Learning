{
  "nbformat": 4,
  "nbformat_minor": 0,
  "metadata": {
    "colab": {
      "name": "MultiClassifier",
      "provenance": [],
      "collapsed_sections": [],
      "authorship_tag": "ABX9TyOaTIpwJBlH6f4Hd328CxxR",
      "include_colab_link": true
    },
    "kernelspec": {
      "name": "python3",
      "display_name": "Python 3"
    }
  },
  "cells": [
    {
      "cell_type": "markdown",
      "metadata": {
        "id": "view-in-github",
        "colab_type": "text"
      },
      "source": [
        "<a href=\"https://colab.research.google.com/github/iyioladaniel/Machine_Learning/blob/master/MultiClassifier.ipynb\" target=\"_parent\"><img src=\"https://colab.research.google.com/assets/colab-badge.svg\" alt=\"Open In Colab\"/></a>"
      ]
    },
    {
      "cell_type": "markdown",
      "metadata": {
        "id": "EUPgBuMPqLig",
        "colab_type": "text"
      },
      "source": [
        "MultiClassifier using RandomForestClassifier\n"
      ]
    },
    {
      "cell_type": "code",
      "metadata": {
        "id": "cs3FJT5i6mry",
        "colab_type": "code",
        "outputId": "e3dcfabb-8bea-4670-99ce-f2f07525411f",
        "colab": {
          "base_uri": "https://localhost:8080/",
          "height": 163
        }
      },
      "source": [
        "#Classifier for activity model\n",
        "\n",
        "import pandas as pd\n",
        "file_url = 'https://raw.githubusercontent.com/PacktWorkshops/The-Data-Science-Workshop/master/Chapter04/Dataset/activity.csv'\n",
        "df = pd.read_csv(file_url)\n",
        "print(df.tail())\n",
        "\n",
        "#seperating target variable\n",
        "target=df.pop('Activity')\n",
        "\n",
        "from sklearn.model_selection import train_test_split\n",
        "X_train, X_test, y_train, y_test=train_test_split(df,target, test_size=0.33, random_state=42)\n",
        "\n",
        "from sklearn.ensemble import RandomForestClassifier as rfc\n",
        "rf_model=rfc(random_state=1).fit(X_train, y_train)\n",
        "pred=rf_model.predict(X_test)\n",
        "\n",
        "from sklearn.metrics import accuracy_score\n",
        "accuracy_score(y_test, pred)"
      ],
      "execution_count": 0,
      "outputs": [
        {
          "output_type": "stream",
          "text": [
            "       avg_rss12  var_rss12  avg_rss13  ...  avg_rss23  var_rss23  Activity\n",
            "41754      41.75       1.79      11.00  ...      16.67       2.49   cycling\n",
            "41755      36.33       0.47      16.00  ...      20.33       1.70   cycling\n",
            "41756      31.50       1.50      21.00  ...      12.25       7.12   cycling\n",
            "41757      34.25       6.38      12.67  ...      15.25       4.21   cycling\n",
            "41758      38.33       0.94      15.25  ...      20.33       1.25   cycling\n",
            "\n",
            "[5 rows x 7 columns]\n"
          ],
          "name": "stdout"
        },
        {
          "output_type": "execute_result",
          "data": {
            "text/plain": [
              "0.7916696901531094"
            ]
          },
          "metadata": {
            "tags": []
          },
          "execution_count": 40
        }
      ]
    },
    {
      "cell_type": "code",
      "metadata": {
        "id": "jcRdfKC172kY",
        "colab_type": "code",
        "outputId": "78397383-2cc8-4c51-9f64-fe766b4e00c6",
        "colab": {
          "base_uri": "https://localhost:8080/",
          "height": 163
        }
      },
      "source": [
        "import pandas as pd\n",
        "file_url = 'https://raw.githubusercontent.com/PacktWorkshops/The-Data-Science-Workshop/master/Chapter04/Dataset/openml_phpZNNasq.csv'\n",
        "df=pd.read_csv(file_url)\n",
        "print(df.head())\n",
        "\n",
        "#Remove animal because it is not usefull\n",
        "df.drop(columns='animal', inplace=True)\n",
        "#inplace=true is to directly update original dataframe\n",
        "\n",
        "y=df.pop('type')\n",
        "df.head()\n",
        "\n",
        "X_train, X_test, y_train, y_test=train_test_split(df,y, test_size=0.4, random_state=188)\n",
        "rf_model=rfc(random_state=42).fit(X_train, y_train)\n",
        "pred=rf_model.predict(X_test)\n",
        "accuracy_score(y_test,pred)\n",
        "\n",
        "#n_estimators of 30 and above will give better score in this model.\n",
        "#n_estimatores is to be added to RFC(random_state=42, n_estimators=30)"
      ],
      "execution_count": 0,
      "outputs": [
        {
          "output_type": "stream",
          "text": [
            "     animal   hair  feathers   eggs  ...   tail  domestic  catsize    type\n",
            "0  aardvark   True     False  False  ...  False     False     True  mammal\n",
            "1  antelope   True     False  False  ...   True     False     True  mammal\n",
            "2      bass  False     False   True  ...   True     False    False    fish\n",
            "3      bear   True     False  False  ...  False     False     True  mammal\n",
            "4      boar   True     False  False  ...   True     False     True  mammal\n",
            "\n",
            "[5 rows x 18 columns]\n"
          ],
          "name": "stdout"
        },
        {
          "output_type": "execute_result",
          "data": {
            "text/plain": [
              "0.9024390243902439"
            ]
          },
          "metadata": {
            "tags": []
          },
          "execution_count": 42
        }
      ]
    },
    {
      "cell_type": "code",
      "metadata": {
        "id": "VxRVlvUPLSYQ",
        "colab_type": "code",
        "outputId": "a34829be-bc34-48c7-a3ef-d41d4d88095d",
        "colab": {
          "base_uri": "https://localhost:8080/",
          "height": 50
        }
      },
      "source": [
        "rf_model=rfc(random_state=42, n_estimators=30, max_depth=5).fit(X_train, y_train)\n",
        "\n",
        "train_pred=rf_model.predict(X_train)\n",
        "train_acc=accuracy_score(y_train, train_pred)\n",
        "print(train_acc)\n",
        "\n",
        "test_pred=rf_model.predict(X_test)\n",
        "test_acc=accuracy_score(y_test, test_pred)\n",
        "print(test_acc)"
      ],
      "execution_count": 0,
      "outputs": [
        {
          "output_type": "stream",
          "text": [
            "1.0\n",
            "0.9024390243902439\n"
          ],
          "name": "stdout"
        }
      ]
    },
    {
      "cell_type": "code",
      "metadata": {
        "id": "8B5qDMDmYt1W",
        "colab_type": "code",
        "outputId": "8a8cf46d-88e8-4d4f-a479-7fa8bc150fe7",
        "colab": {
          "base_uri": "https://localhost:8080/",
          "height": 50
        }
      },
      "source": [
        "rf_model2 = rfc(random_state=42, n_estimators=30, max_depth=2)\n",
        "rf_model2.fit(X_train, y_train)\n",
        "\n",
        "train_preds2 = rf_model2.predict(X_train)\n",
        "test_preds2 = rf_model2.predict(X_test)\n",
        "\n",
        "train_acc2 = accuracy_score(y_train, train_preds2)\n",
        "test_acc2 = accuracy_score(y_test, test_preds2)\n",
        "\n",
        "print(train_acc2)\n",
        "print(test_acc2)"
      ],
      "execution_count": 0,
      "outputs": [
        {
          "output_type": "stream",
          "text": [
            "0.9\n",
            "0.8292682926829268\n"
          ],
          "name": "stdout"
        }
      ]
    },
    {
      "cell_type": "code",
      "metadata": {
        "id": "JMNBdTLhabFx",
        "colab_type": "code",
        "outputId": "9883435f-0b15-4a1a-b21d-7c85ec4c14c4",
        "colab": {
          "base_uri": "https://localhost:8080/",
          "height": 82
        }
      },
      "source": [
        "#Setting min_samples_leaf\n",
        "rf_model7 = rfc(random_state=1, n_estimators=50, max_depth=10, min_samples_leaf=3)\n",
        "rf_model7.fit(X_train, y_train)\n",
        "preds7 = rf_model7.predict(X_train)\n",
        "test_preds7 = rf_model7.predict(X_test)\n",
        "print(accuracy_score(y_train, preds7))\n",
        "print(accuracy_score(y_test, test_preds7))\n",
        "\n",
        "\n",
        "rf_model9 = rfc(random_state=1, n_estimators=50, max_depth=30, min_samples_leaf=2)\n",
        "rf_model9.fit(X_train, y_train)\n",
        "preds9 = rf_model9.predict(X_train)\n",
        "test_preds9 = rf_model9.predict(X_test)\n",
        "print(accuracy_score(y_train, preds9))\n",
        "print(accuracy_score(y_test, test_preds9))"
      ],
      "execution_count": 0,
      "outputs": [
        {
          "output_type": "stream",
          "text": [
            "1.0\n",
            "0.8780487804878049\n",
            "1.0\n",
            "0.8780487804878049\n"
          ],
          "name": "stdout"
        }
      ]
    },
    {
      "cell_type": "code",
      "metadata": {
        "id": "kuWEcZe0nl7M",
        "colab_type": "code",
        "outputId": "61fa1b94-f869-4157-c7b2-55bda52b0afd",
        "colab": {
          "base_uri": "https://localhost:8080/",
          "height": 50
        }
      },
      "source": [
        "#Setting min_features\n",
        "rf_model12 = rfc(random_state=1, n_estimators=50,\n",
        "                                    max_depth=10, min_samples_leaf=25,\n",
        "                                    max_features='log2')\n",
        "rf_model12.fit(X_train, y_train)\n",
        "preds12 = rf_model12.predict(X_train)\n",
        "test_preds12 = rf_model12.predict(X_test)\n",
        "print(accuracy_score(y_train, preds12))\n",
        "print(accuracy_score(y_test, test_preds12))"
      ],
      "execution_count": 0,
      "outputs": [
        {
          "output_type": "stream",
          "text": [
            "0.4\n",
            "0.4146341463414634\n"
          ],
          "name": "stdout"
        }
      ]
    }
  ]
}