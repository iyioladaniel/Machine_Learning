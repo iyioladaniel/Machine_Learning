{
  "nbformat": 4,
  "nbformat_minor": 0,
  "metadata": {
    "colab": {
      "name": "Exercise-MultiClassifier",
      "provenance": [],
      "authorship_tag": "ABX9TyMv97HR0FmKx7reBDWj6CsR",
      "include_colab_link": true
    },
    "kernelspec": {
      "name": "python3",
      "display_name": "Python 3"
    }
  },
  "cells": [
    {
      "cell_type": "markdown",
      "metadata": {
        "id": "view-in-github",
        "colab_type": "text"
      },
      "source": [
        "<a href=\"https://colab.research.google.com/github/iyioladaniel/Machine_Learning/blob/master/Exercise_MultiClassifier.ipynb\" target=\"_parent\"><img src=\"https://colab.research.google.com/assets/colab-badge.svg\" alt=\"Open In Colab\"/></a>"
      ]
    },
    {
      "cell_type": "code",
      "metadata": {
        "id": "KWsT9fD8qbUb",
        "colab_type": "code",
        "outputId": "22acde03-c88e-431f-f22b-a530ccf56f34",
        "colab": {
          "base_uri": "https://localhost:8080/",
          "height": 242
        }
      },
      "source": [
        "import pandas as pd\n",
        "import numpy as np\n",
        "\n",
        "file_url='https://raw.githubusercontent.com/PacktWorkshops/The-Data-Science-Workshop/master/Chapter04/Dataset/phpB0xrNj.csv'\n",
        "df=pd.read_csv(file_url)\n",
        "print(df.shape)\n",
        "\n",
        "target=df.pop('class')"
      ],
      "execution_count": 0,
      "outputs": [
        {
          "output_type": "stream",
          "text": [
            "(7797, 618)\n",
            "<bound method NDFrame.head of 0        '1'\n",
            "1        '1'\n",
            "2        '2'\n",
            "3        '2'\n",
            "4        '3'\n",
            "        ... \n",
            "7792    '24'\n",
            "7793    '25'\n",
            "7794    '25'\n",
            "7795    '26'\n",
            "7796    '26'\n",
            "Name: class, Length: 7797, dtype: object>\n"
          ],
          "name": "stdout"
        }
      ]
    },
    {
      "cell_type": "code",
      "metadata": {
        "id": "zflsaPBfruY5",
        "colab_type": "code",
        "outputId": "13a30753-4ad6-4945-be3b-4c74f13002f6",
        "colab": {
          "base_uri": "https://localhost:8080/",
          "height": 86
        }
      },
      "source": [
        "from sklearn.model_selection import train_test_split\n",
        "X_train, X_test, y_train, y_test=train_test_split(df, target, test_size=0.3, random_state=188)\n",
        "\n",
        "from sklearn.ensemble import RandomForestClassifier as rfc\n",
        "from sklearn.metrics import accuracy_score\n",
        "\n",
        "#where n_estimators=20\n",
        "rf_model=rfc(random_state=1, n_estimators=20)\n",
        "rf_model.fit(X_train, y_train)\n",
        "pred=rf_model.predict(X_train)\n",
        "print(accuracy_score(pred, y_train))\n",
        "pred=rf_model.predict(X_test)\n",
        "print(accuracy_score(pred, y_test))\n",
        "\n",
        "#where n_estimators=50\n",
        "rf_model=rfc(random_state=1, n_estimators=50)\n",
        "rf_model.fit(X_train, y_train)\n",
        "pred=rf_model.predict(X_train)\n",
        "print(accuracy_score(pred, y_train))\n",
        "pred=rf_model.predict(X_test)\n",
        "print(accuracy_score(pred, y_test))"
      ],
      "execution_count": 0,
      "outputs": [
        {
          "output_type": "stream",
          "text": [
            "1.0\n",
            "0.9179487179487179\n",
            "1.0\n",
            "0.9299145299145299\n"
          ],
          "name": "stdout"
        }
      ]
    },
    {
      "cell_type": "markdown",
      "metadata": {
        "id": "4Z7qiYOLunsR",
        "colab_type": "text"
      },
      "source": [
        "n_estimators=50 is better, less overfitting"
      ]
    },
    {
      "cell_type": "code",
      "metadata": {
        "id": "c3wyV5o-umzl",
        "colab_type": "code",
        "outputId": "6cbb7aa4-31f0-4814-9841-edea787b81f9",
        "colab": {
          "base_uri": "https://localhost:8080/",
          "height": 86
        }
      },
      "source": [
        "#where n_estimators=50, max_depth=5\n",
        "rf_model=rfc(random_state=1, n_estimators=50, max_depth=5)\n",
        "rf_model.fit(X_train, y_train)\n",
        "pred=rf_model.predict(X_train)\n",
        "print(accuracy_score(pred, y_train))\n",
        "pred=rf_model.predict(X_test)\n",
        "print(accuracy_score(pred, y_test))\n",
        "\n",
        "#where n_estimators=50, max_depth=10\n",
        "rf_model=rfc(random_state=1, n_estimators=50, max_depth=10)\n",
        "rf_model.fit(X_train, y_train)\n",
        "pred=rf_model.predict(X_train)\n",
        "print(accuracy_score(pred, y_train))\n",
        "pred=rf_model.predict(X_test)\n",
        "print(accuracy_score(pred, y_test))"
      ],
      "execution_count": 0,
      "outputs": [
        {
          "output_type": "stream",
          "text": [
            "0.8737401502657137\n",
            "0.8354700854700855\n",
            "0.9836906725306945\n",
            "0.9273504273504274\n"
          ],
          "name": "stdout"
        }
      ]
    },
    {
      "cell_type": "markdown",
      "metadata": {
        "id": "m0u7pVnyvZ1C",
        "colab_type": "text"
      },
      "source": [
        "Where n_estimators=50, max_depth=10 is better, better accuracy score and less overfitting\n",
        "\n"
      ]
    },
    {
      "cell_type": "code",
      "metadata": {
        "id": "aX614Iynu9Ka",
        "colab_type": "code",
        "outputId": "ee53adf6-6638-4773-bc3c-f378c0426793",
        "colab": {
          "base_uri": "https://localhost:8080/",
          "height": 86
        }
      },
      "source": [
        "#where n_estimators=50, max_depth=10, min_samples_leaf=10\n",
        "rf_model=rfc(random_state=1, n_estimators=50, max_depth=10, min_samples_leaf=10)\n",
        "rf_model.fit(X_train, y_train)\n",
        "pred=rf_model.predict(X_train)\n",
        "print(accuracy_score(pred, y_train))\n",
        "pred=rf_model.predict(X_test)\n",
        "print(accuracy_score(pred, y_test))\n",
        "\n",
        "#where n_estimators=50, max_depth=10, min_samples_leaf=50\n",
        "rf_model=rfc(random_state=1, n_estimators=50, max_depth=10, min_samples_leaf=50)\n",
        "rf_model.fit(X_train, y_train)\n",
        "pred=rf_model.predict(X_train)\n",
        "print(accuracy_score(pred, y_train))\n",
        "pred=rf_model.predict(X_test)\n",
        "print(accuracy_score(pred, y_test))"
      ],
      "execution_count": 0,
      "outputs": [
        {
          "output_type": "stream",
          "text": [
            "0.9574857980575407\n",
            "0.9072649572649573\n",
            "0.9151548469855232\n",
            "0.8799145299145299\n"
          ],
          "name": "stdout"
        }
      ]
    },
    {
      "cell_type": "markdown",
      "metadata": {
        "id": "6sXumfAiv3lW",
        "colab_type": "text"
      },
      "source": [
        "where n_estimators=50, max_depth=10, min_samples_leaf=50 is better, overfitting is reduced\n",
        "\n"
      ]
    },
    {
      "cell_type": "code",
      "metadata": {
        "id": "AwTV43OawCcT",
        "colab_type": "code",
        "outputId": "6a4a36d8-2766-4406-e390-fc646beeadfd",
        "colab": {
          "base_uri": "https://localhost:8080/",
          "height": 86
        }
      },
      "source": [
        "#where n_estimators=50, max_depth=10, min_samples_leaf=50, max_features=0.5\n",
        "rf_model=rfc(random_state=1, n_estimators=50, max_depth=10, min_samples_leaf=50, max_features=0.5)\n",
        "rf_model.fit(X_train, y_train)\n",
        "pred=rf_model.predict(X_train)\n",
        "print(accuracy_score(pred, y_train))\n",
        "pred=rf_model.predict(X_test)\n",
        "print(accuracy_score(pred, y_test))\n",
        "\n",
        "#where n_estimators=50, max_depth=10, min_samples_leaf=50, max_features=0.3\n",
        "rf_model=rfc(random_state=1, n_estimators=50, max_depth=10, min_samples_leaf=50, max_features=0.3)\n",
        "rf_model.fit(X_train, y_train)\n",
        "pred=rf_model.predict(X_train)\n",
        "print(accuracy_score(pred, y_train))\n",
        "pred=rf_model.predict(X_test)\n",
        "print(accuracy_score(pred, y_test))"
      ],
      "execution_count": 0,
      "outputs": [
        {
          "output_type": "stream",
          "text": [
            "0.8840021990104453\n",
            "0.8517094017094017\n",
            "0.8922484881803189\n",
            "0.8611111111111112\n"
          ],
          "name": "stdout"
        }
      ]
    },
    {
      "cell_type": "markdown",
      "metadata": {
        "id": "uUiV4NMrykjE",
        "colab_type": "text"
      },
      "source": [
        "Best Model is where n_estimator=50, max_depth=10, min_samples_leaf=50, max_features=0.3\n",
        "\n"
      ]
    }
  ]
}