{
  "nbformat": 4,
  "nbformat_minor": 0,
  "metadata": {
    "colab": {
      "name": "Assignment - Lasso, Ridge Regression",
      "provenance": [],
      "collapsed_sections": [],
      "machine_shape": "hm",
      "authorship_tag": "ABX9TyNI468haYyai0tCZTQ4yNt8",
      "include_colab_link": true
    },
    "kernelspec": {
      "name": "python3",
      "display_name": "Python 3"
    }
  },
  "cells": [
    {
      "cell_type": "markdown",
      "metadata": {
        "id": "view-in-github",
        "colab_type": "text"
      },
      "source": [
        "<a href=\"https://colab.research.google.com/github/iyioladaniel/Machine_Learning/blob/master/Assignment_Lasso%2C_Ridge_Regression.ipynb\" target=\"_parent\"><img src=\"https://colab.research.google.com/assets/colab-badge.svg\" alt=\"Open In Colab\"/></a>"
      ]
    },
    {
      "cell_type": "code",
      "metadata": {
        "id": "9NCxLz9Urgv5",
        "colab_type": "code",
        "colab": {}
      },
      "source": [
        "import numpy as np\n",
        "import pandas as pd\n",
        "from sklearn.linear_model import LinearRegression, Lasso, Ridge, LogisticRegression\n",
        "from sklearn.metrics import mean_squared_error\n",
        "from sklearn.model_selection import train_test_split\n",
        "from sklearn.pipeline import Pipeline\n",
        "from sklearn.preprocessing import MinMaxScaler, PolynomialFeatures\n",
        "\n",
        "file_url='https://raw.githubusercontent.com/PacktWorkshops/The-Data-Science-Workshop/master/Chapter07/Dataset/superconduct/train.csv'\n",
        "df=pd.read_csv(file_url)\n",
        "\n",
        "df.head()\n",
        "#df.info()\n",
        "\n",
        "readings = df.drop('critical_temp', axis=1)\n",
        "critical_temp=df['critical_temp'].values\n",
        "\n",
        "X_train, X_eval, y_train, y_eval= train_test_split(readings, critical_temp, test_size=0.2, random_state=0)\n"
      ],
      "execution_count": 0,
      "outputs": []
    },
    {
      "cell_type": "code",
      "metadata": {
        "id": "XUiMRAUrzpBv",
        "colab_type": "code",
        "colab": {}
      },
      "source": [
        "lr_model1 = LinearRegression()\n",
        "lr_model1.fit(X_train, y_train)\n",
        "r2=lr_model1.score(X_eval, y_eval)\n",
        "mse=mean_squared_error(y_eval, lr_model1.predict(X_eval))\n",
        "\n",
        "print('R2 Score: {}'.format(r2),'\\n MSE: {}'.format(mse))"
      ],
      "execution_count": 0,
      "outputs": []
    },
    {
      "cell_type": "code",
      "metadata": {
        "id": "MG4HVFpVIzDK",
        "colab_type": "code",
        "colab": {}
      },
      "source": [
        "s.teps=[\n",
        "       ('scaler', MinMaxScaler()),\n",
        "       ('poly', PolynomialFeatures(degree=3)),\n",
        "       ('lr', LinearRegression())\n",
        "]\n",
        "\n",
        "lr_model2 = Pipeline(steps)\n",
        "lr_model2.fit(X_train, y_train)\n",
        "r2=lr_model2.score(X_eval, y_eval)\n",
        "mse=mean_squared_error(y_eval, lr_model2.predict(X_eval))\n",
        "\n",
        "print('R2 Score: {}'.format(r2),'\\n MSE: {}'.format(mse))"
      ],
      "execution_count": 0,
      "outputs": []
    },
    {
      "cell_type": "code",
      "metadata": {
        "id": "wqBJOOmhLDz6",
        "colab_type": "code",
        "colab": {}
      },
      "source": [
        "steps=[\n",
        "       ('scaler', MinMaxScaler()),\n",
        "       ('poly', PolynomialFeatures(degree=3)),\n",
        "       ('lr', Ridge(alpha=0.5))\n",
        "]\n",
        "\n",
        "lr_model3 = Pipeline(steps)\n",
        "lr_model3.fit(X_train, y_train)\n",
        "r2=lr_model3.score(X_eval, y_eval)\n",
        "mse=mean_squared_error(y_eval, lr_model3.predict(X_eval))\n",
        "\n",
        "print('R2 Score: {}'.format(r2),'\\n MSE: {}'.format(mse))\n",
        "print(lr_model3[-1].coef_[:35])\n",
        "print('\\n', len(lr_model3[-1].coef_[:35]))"
      ],
      "execution_count": 0,
      "outputs": []
    }
  ]
}